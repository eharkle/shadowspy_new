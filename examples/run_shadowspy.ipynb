{
 "cells": [
  {
   "cell_type": "code",
   "metadata": {},
   "source": [
    "import logging\n",
    "import time\n",
    "import xarray as xr\n",
    "import glob\n",
    "import pandas as pd\n",
    "\n",
    "from matplotlib import pyplot as plt\n",
    "from tqdm import tqdm"
   ],
   "outputs": [],
   "execution_count": null
  },
  {
   "cell_type": "code",
   "metadata": {},
   "source": [
    "from examples.download_kernels import download_kernels\n",
    "from src.config import ShSpOpt\n",
    "from src.shadowspy.data_handling import fetch_and_process_data\n",
    "from src.shadowspy.dem_processing import prepare_dem_mesh\n",
    "from src.shadowspy.helpers import setup_directories, process_data_list\n",
    "from src.shadowspy.raster_products import basic_raster_stats\n",
    "from src.shadowspy.utilities import run_log"
   ],
   "outputs": [],
   "execution_count": null
  },
  {
   "metadata": {},
   "cell_type": "markdown",
   "source": "Setup config and directories"
  },
  {
   "metadata": {},
   "cell_type": "code",
   "source": [
    "opt = ShSpOpt()\n",
    "opt.setup_config(config_file='MoonSP_render_config.yaml')\n",
    "opt.set(siteid='MoonSPsmall')\n",
    "opt.display()\n",
    "\n",
    "setup_directories(opt)"
   ],
   "outputs": [],
   "execution_count": null
  },
  {
   "metadata": {},
   "cell_type": "markdown",
   "source": "download kernels"
  },
  {
   "metadata": {},
   "cell_type": "code",
   "source": [
    "if opt.download_kernels:\n",
    "    download_kernels()"
   ],
   "outputs": [],
   "execution_count": null
  },
  {
   "metadata": {},
   "cell_type": "markdown",
   "source": "prepare mesh of the input dem"
  },
  {
   "metadata": {},
   "cell_type": "code",
   "source": [
    "start = time.time()\n",
    "logging.info(f\"- Computing trimesh for {opt.dem_path}...\")\n",
    "inner_mesh_path, outer_mesh_path, dem_path = prepare_dem_mesh(opt.dem_path, opt.tmpdir, opt.siteid, opt)\n",
    "logging.info(f\"- Meshes generated after {round(time.time() - start, 2)} seconds.\")"
   ],
   "outputs": [],
   "execution_count": null
  },
  {
   "metadata": {},
   "cell_type": "markdown",
   "source": "Determine the mode and prepare data list"
  },
  {
   "metadata": {},
   "cell_type": "code",
   "source": [
    "data_list, use_azi_ele, use_image_times = fetch_and_process_data(opt)\n",
    "print(f\"- Illuminating input DEM at {data_list}.\")"
   ],
   "outputs": [],
   "execution_count": null
  },
  {
   "metadata": {},
   "cell_type": "markdown",
   "source": "Common arguments for both cases"
  },
  {
   "metadata": {},
   "cell_type": "code",
   "source": [
    "common_args = {\n",
    "    'meshes': {'stereo': f\"{inner_mesh_path}_st{opt.mesh_ext}\", 'cart': f\"{inner_mesh_path}{opt.mesh_ext}\"},\n",
    "    'basemesh_path': outer_mesh_path + opt.mesh_ext,\n",
    "    'path_to_furnsh': f\"{opt.indir}simple.furnsh\",\n",
    "    'point': opt.point_source,\n",
    "    'extsource_coord': opt.extsource_coord,\n",
    "    'source': opt.source,\n",
    "    'dem_path': dem_path,\n",
    "    'crs': 'PROJCS[\"Moon (2015) - Sphere / Ocentric / South Polar\", BASEGEOGCRS[\"Moon (2015) - Sphere / Ocentric\", DATUM[\"Moon (2015) - Sphere\", ELLIPSOID[\"Moon (2015) - Sphere\",1737400,0, LENGTHUNIT[\"metre\",1]]], PRIMEM[\"Reference Meridian\",0, ANGLEUNIT[\"degree\",0.0174532925199433]], ID[\"IAU\",30100,2015]], CONVERSION[\"South Polar\", METHOD[\"Polar Stereographic (variant A)\", ID[\"EPSG\",9810]], PARAMETER[\"Latitude of natural origin\",-90, ANGLEUNIT[\"degree\",0.0174532925199433], ID[\"EPSG\",8801]], PARAMETER[\"Longitude of natural origin\",0, ANGLEUNIT[\"degree\",0.0174532925199433], ID[\"EPSG\",8802]], PARAMETER[\"Scale factor at natural origin\",1, SCALEUNIT[\"unity\",1], ID[\"EPSG\",8805]], PARAMETER[\"False easting\",0, LENGTHUNIT[\"metre\",1], ID[\"EPSG\",8806]], PARAMETER[\"False northing\",0, LENGTHUNIT[\"metre\",1], ID[\"EPSG\",8807]]], CS[Cartesian,2], AXIS[\"(E)\",east,ORDER[1],LENGTHUNIT[\"metre\",1]], AXIS[\"(N)\",north, ORDER[2], LENGTHUNIT[\"metre\",1]], ID[\"IAU\",30135,2015]]'\n",
    "}"
   ],
   "outputs": [],
   "execution_count": null
  },
  {
   "metadata": {},
   "cell_type": "markdown",
   "source": "actually compute irradiance at each element of data_list"
  },
  {
   "metadata": {},
   "cell_type": "code",
   "source": "dsi_epo_path_dict = process_data_list(data_list, common_args, use_azi_ele, use_image_times, opt)",
   "outputs": [],
   "execution_count": null
  },
  {
   "metadata": {},
   "cell_type": "code",
   "source": [
    "render_paths = glob.glob(f\"{opt.outdir}{opt.siteid}/{opt.siteid}_*.tif\")[:]\n",
    "pd.DataFrame.from_records([dsi_epo_path_dict]).T.to_csv(f'{opt.outdir}{opt.siteid}/dsi_epo_paths.csv')\n",
    "\n",
    "fig, axes = plt.subplots(nrows=len(render_paths), ncols=1)\n",
    "for idx, render in tqdm(enumerate(render_paths)):\n",
    "    da = xr.open_dataarray(render)\n",
    "    # da = da.sel(band=1).coarsen({'x': 3, 'y': 3}, boundary='trim').mean() \n",
    "    da.plot(robust=True, cmap='Greys', ax=axes[idx])\n",
    "\n",
    "plt.show()"
   ],
   "outputs": [],
   "execution_count": null
  },
  {
   "metadata": {},
   "cell_type": "markdown",
   "source": "prepare mean, sum, max stats rasters and set-up log file"
  },
  {
   "metadata": {},
   "cell_type": "code",
   "source": [
    "# from datetime import datetime\n",
    "dsi_epo_path = pd.read_csv(f'{opt.outdir}{opt.siteid}/dsi_epo_paths.csv').set_index('Unnamed: 0').to_dict()['0']\n",
    "# dsi_epo_path = {datetime.strptime(str(k), '%Y%m%d%H%M%S'):v for k,v in dsi_epo_path.items()}\n",
    "dem = xr.open_dataarray(common_args['dem_path'])\n",
    "basic_raster_stats(dsi_epo_path, opt.time_step_hours, crs=dem.rio.crs, outdir=opt.outdir, siteid=opt.siteid)"
   ],
   "outputs": [],
   "execution_count": null
  },
  {
   "metadata": {},
   "cell_type": "code",
   "source": [
    "run_log(Fsun=opt.Fsun, Rb=opt.Rb, base_resolution=opt.base_resolution, siteid=opt.siteid, dem_path=dem_path, outdir=opt.outdir,\n",
    "        start_time=opt.start_time, end_time=opt.end_time, time_step_hours=opt.time_step_hours,\n",
    "        runtime_sec=round(time.time() - start, 2), logpath=f\"{opt.outdir}{opt.siteid}/illum_stats_{opt.siteid}_{int(time.time())}.json\")\n",
    "logging.info(f\"Completed in {round(time.time() - start, 2)} seconds.\")"
   ],
   "outputs": [],
   "execution_count": null
  }
 ],
 "metadata": {
  "kernelspec": {
   "display_name": "Python 3",
   "language": "python",
   "name": "python3"
  },
  "language_info": {
   "codemirror_mode": {
    "name": "ipython",
    "version": 3
   },
   "file_extension": ".py",
   "mimetype": "text/x-python",
   "name": "python",
   "nbconvert_exporter": "python",
   "pygments_lexer": "ipython3",
   "version": "3.6.4"
  }
 },
 "nbformat": 4,
 "nbformat_minor": 2
}
