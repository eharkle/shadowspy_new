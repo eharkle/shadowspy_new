{
 "cells": [
  {
   "cell_type": "code",
   "metadata": {
    "ExecuteTime": {
     "end_time": "2024-07-12T15:50:45.468743Z",
     "start_time": "2024-07-12T15:50:44.056288Z"
    }
   },
   "source": [
    "import logging\n",
    "import time\n",
    "import xarray as xr\n",
    "import glob\n",
    "import pandas as pd\n",
    "\n",
    "from matplotlib import pyplot as plt\n",
    "from tqdm import tqdm"
   ],
   "outputs": [],
   "execution_count": 1
  },
  {
   "cell_type": "code",
   "metadata": {
    "ExecuteTime": {
     "end_time": "2024-07-12T15:50:46.015708Z",
     "start_time": "2024-07-12T15:50:45.472734Z"
    }
   },
   "source": [
    "from examples.download_kernels import download_kernels\n",
    "from src.config import ShSpOpt\n",
    "from src.shadowspy.data_handling import fetch_and_process_data\n",
    "from src.shadowspy.dem_processing import prepare_dem_mesh\n",
    "from src.shadowspy.helpers import setup_directories, process_data_list\n",
    "from src.shadowspy.raster_products import basic_raster_stats\n",
    "from src.shadowspy.utilities import run_log"
   ],
   "outputs": [],
   "execution_count": 2
  },
  {
   "metadata": {},
   "cell_type": "markdown",
   "source": "Setup config and directories"
  },
  {
   "metadata": {
    "ExecuteTime": {
     "end_time": "2024-07-12T15:50:46.047522Z",
     "start_time": "2024-07-12T15:50:46.019039Z"
    }
   },
   "cell_type": "code",
   "source": [
    "opt = ShSpOpt()\n",
    "opt.setup_config(config_file='MoonSP_render_config.yaml')\n",
    "opt.set(siteid='MoonSPsmall')\n",
    "opt.display()\n",
    "\n",
    "setup_directories(opt)"
   ],
   "outputs": [
    {
     "name": "stdout",
     "output_type": "stream",
     "text": [
      "### ShSpOpt.siteid updated to MoonSPsmall.\n",
      "initialized = True\n",
      "siteid = MoonSPsmall\n",
      "Fsun = 1361\n",
      "flux_path = None\n",
      "wavelength = None\n",
      "Rb = 1737.4\n",
      "base_resolution = 120\n",
      "config_file = None\n",
      "download_kernels = False\n",
      "irradiance_only = False\n",
      "max_extension = 200e3\n",
      "extres = {'20e3': 40, '60e3': 120, '100e3': 240, '300e3': 480}\n",
      "lonlat0_stereo = [0, -90]\n",
      "bbox_roi = ['50e3', '-150e3', '150e3', '-50e3']\n",
      "shapefile_roi = None\n",
      "mesh_ext = .vtk\n",
      "epos_utc = []\n",
      "start_time = 2026-01-30 15:00:00.0\n",
      "end_time = 2026-01-30 17:00:00.0\n",
      "time_step_hours = 1\n",
      "azi_ele_path = None\n",
      "images_index = /home/sberton2/Lavoro/projects/validate_shadowspy/final_selection_0_sel0.csv\n",
      "point_source = True\n",
      "source = SUN\n",
      "extsource_coord = ./aux/coordflux_100pts_outline33_centerlast_R1_F1_stdlimbdark.txt\n",
      "root = ./\n",
      "indir = ./aux/\n",
      "dem_path = /home/sberton2/Lavoro/projects/validate_shadowspy/LDEM_80S_40MPP_ADJ.TIF\n",
      "fartopo_path = same_dem\n",
      "outdir = ./out/\n",
      "tmpdir = ./tmp/\n"
     ]
    }
   ],
   "execution_count": 3
  },
  {
   "metadata": {},
   "cell_type": "markdown",
   "source": "download kernels"
  },
  {
   "metadata": {},
   "cell_type": "code",
   "source": [
    "if opt.download_kernels:\n",
    "    download_kernels()"
   ],
   "outputs": [],
   "execution_count": null
  },
  {
   "metadata": {},
   "cell_type": "markdown",
   "source": "prepare mesh of the input dem"
  },
  {
   "metadata": {
    "ExecuteTime": {
     "end_time": "2024-07-12T15:51:03.364648Z",
     "start_time": "2024-07-12T15:50:51.912362Z"
    }
   },
   "cell_type": "code",
   "source": [
    "start = time.time()\n",
    "logging.info(f\"- Computing trimesh for {opt.dem_path}...\")\n",
    "inner_mesh_path, outer_mesh_path, dem_path = prepare_dem_mesh(opt.dem_path, opt.tmpdir, opt.siteid, opt)\n",
    "logging.info(f\"- Meshes generated after {round(time.time() - start, 2)} seconds.\")"
   ],
   "outputs": [
    {
     "name": "stderr",
     "output_type": "stream",
     "text": [
      "INFO:root:- Computing trimesh for /home/sberton2/Lavoro/projects/validate_shadowspy/LDEM_80S_40MPP_ADJ.TIF...\n",
      "INFO:root:Clipped /home/sberton2/Lavoro/projects/validate_shadowspy/LDEM_80S_40MPP_ADJ.TIF to 50e3_-150e3_150e3_-50e3 and saved to ./tmp/clipped_dem_MoonSPsmall_50e3_-150e3_150e3_-50e3.tif\n"
     ]
    },
    {
     "name": "stdout",
     "output_type": "stream",
     "text": [
      "- Delauney mesh computed and saved to ./tmp/MoonSPsmall_b120_dn1_st.vtk.\n"
     ]
    },
    {
     "name": "stderr",
     "output_type": "stream",
     "text": [
      "INFO:root:- Reading existing stacked mesh file\n",
      "INFO:root:- Meshes generated after 11.45 seconds.\n"
     ]
    },
    {
     "name": "stdout",
     "output_type": "stream",
     "text": [
      "- Delauney mesh computed and saved to ./tmp/MoonSPsmall_b120_dn1.vtk.\n"
     ]
    }
   ],
   "execution_count": 4
  },
  {
   "metadata": {},
   "cell_type": "markdown",
   "source": "Determine the mode and prepare data list"
  },
  {
   "metadata": {
    "ExecuteTime": {
     "end_time": "2024-07-12T15:51:19.791660Z",
     "start_time": "2024-07-12T15:51:19.778590Z"
    }
   },
   "cell_type": "code",
   "source": [
    "data_list, use_azi_ele, use_image_times = fetch_and_process_data(opt)\n",
    "print(f\"- Illuminating input DEM at {data_list}.\")"
   ],
   "outputs": [
    {
     "name": "stdout",
     "output_type": "stream",
     "text": [
      "- Illuminating input DEM at [('M142497921RE', ' 2010-10-23 18:30:53.712', '/home/sberton2/Lavoro/projects/validate_shadowspy/final_selection_map/M142497921RE_map.tif'), ('M142504702LE', ' 2010-10-23 20:23:55.473', '/home/sberton2/Lavoro/projects/validate_shadowspy/final_selection_map/M142504702LE_map.tif'), ('M1108619922RE', ' 2012-11-27 01:44:15.386', '/home/sberton2/Lavoro/projects/validate_shadowspy/final_selection_map/M1108619922RE_map.tif')].\n"
     ]
    },
    {
     "name": "stderr",
     "output_type": "stream",
     "text": [
      "/home/sberton2/Lavoro/code/shadowspy/src/shadowspy/image_util.py:4: SettingWithCopyWarning: \n",
      "A value is trying to be set on a copy of a slice from a DataFrame.\n",
      "Try using .loc[row_indexer,col_indexer] = value instead\n",
      "\n",
      "See the caveats in the documentation: https://pandas.pydata.org/pandas-docs/stable/user_guide/indexing.html#returning-a-view-versus-a-copy\n",
      "  cumindex_red.PRODUCT_ID = cumindex_red.PRODUCT_ID.str.strip()\n",
      "/home/sberton2/Lavoro/code/shadowspy/src/shadowspy/data_handling.py:30: FutureWarning: Series.__getitem__ treating keys as positions is deprecated. In a future version, integer keys will always be treated as labels (consistent with DataFrame behavior). To access a value by position, use `ser.iloc[pos]`\n",
      "  data_list = [(row[0], row[1], row[2]) for idx, row in data_list.iterrows()]\n"
     ]
    }
   ],
   "execution_count": 5
  },
  {
   "metadata": {},
   "cell_type": "markdown",
   "source": "Common arguments for both cases"
  },
  {
   "metadata": {
    "ExecuteTime": {
     "end_time": "2024-07-12T15:51:38.219168Z",
     "start_time": "2024-07-12T15:51:38.215389Z"
    }
   },
   "cell_type": "code",
   "source": [
    "common_args = {\n",
    "    'meshes': {'stereo': f\"{inner_mesh_path}_st{opt.mesh_ext}\", 'cart': f\"{inner_mesh_path}{opt.mesh_ext}\"},\n",
    "    'basemesh_path': outer_mesh_path + opt.mesh_ext,\n",
    "    'path_to_furnsh': f\"{opt.indir}simple.furnsh\",\n",
    "    'point': opt.point_source,\n",
    "    'extsource_coord': opt.extsource_coord,\n",
    "    'source': opt.source,\n",
    "    'dem_path': dem_path,\n",
    "    'crs': 'PROJCS[\"Moon (2015) - Sphere / Ocentric / South Polar\", BASEGEOGCRS[\"Moon (2015) - Sphere / Ocentric\", DATUM[\"Moon (2015) - Sphere\", ELLIPSOID[\"Moon (2015) - Sphere\",1737400,0, LENGTHUNIT[\"metre\",1]]], PRIMEM[\"Reference Meridian\",0, ANGLEUNIT[\"degree\",0.0174532925199433]], ID[\"IAU\",30100,2015]], CONVERSION[\"South Polar\", METHOD[\"Polar Stereographic (variant A)\", ID[\"EPSG\",9810]], PARAMETER[\"Latitude of natural origin\",-90, ANGLEUNIT[\"degree\",0.0174532925199433], ID[\"EPSG\",8801]], PARAMETER[\"Longitude of natural origin\",0, ANGLEUNIT[\"degree\",0.0174532925199433], ID[\"EPSG\",8802]], PARAMETER[\"Scale factor at natural origin\",1, SCALEUNIT[\"unity\",1], ID[\"EPSG\",8805]], PARAMETER[\"False easting\",0, LENGTHUNIT[\"metre\",1], ID[\"EPSG\",8806]], PARAMETER[\"False northing\",0, LENGTHUNIT[\"metre\",1], ID[\"EPSG\",8807]]], CS[Cartesian,2], AXIS[\"(E)\",east,ORDER[1],LENGTHUNIT[\"metre\",1]], AXIS[\"(N)\",north, ORDER[2], LENGTHUNIT[\"metre\",1]], ID[\"IAU\",30135,2015]]'\n",
    "}"
   ],
   "outputs": [],
   "execution_count": 6
  },
  {
   "metadata": {},
   "cell_type": "markdown",
   "source": "actually compute irradiance at each element of data_list"
  },
  {
   "metadata": {
    "ExecuteTime": {
     "end_time": "2024-07-12T15:51:49.833608Z",
     "start_time": "2024-07-12T15:51:45.776961Z"
    }
   },
   "cell_type": "code",
   "source": "dsi_epo_path_dict = process_data_list(data_list, common_args, use_azi_ele, use_image_times, opt)",
   "outputs": [
    {
     "name": "stderr",
     "output_type": "stream",
     "text": [
      "  0%|          | 0/3 [00:00<?, ?it/s]WARNING:root:* Outer mesh not yet implemented for render_match_image. Setting back to None.\n"
     ]
    },
    {
     "name": "stdout",
     "output_type": "stream",
     "text": [
      "- Processing M142497921RE and clipping to /home/sberton2/Lavoro/projects/validate_shadowspy/final_selection_map/M142497921RE_map.tif...\n",
      "- Cropping DEM to                                             geometry\n",
      "0  POLYGON ((-112.474 154.752, -112.492 154.775, ...\n"
     ]
    },
    {
     "name": "stderr",
     "output_type": "stream",
     "text": [
      "/home/sberton2/Lavoro/code/shadowspy/src/shadowspy/render_dem.py:210: FutureWarning: The `op` parameter is deprecated and will be removed in a future release. Please use the `predicate` parameter instead.\n",
      "  crop_mesh(dem_mask, meshes, mask=dem_mask, meshes_cropped=meshes_cropped)\n",
      "/home/sberton2/Lavoro/code/shadowspy/shadow-env/lib/python3.10/site-packages/geopandas/geodataframe.py:2195: UserWarning: CRS mismatch between the CRS of left geometries and the CRS of right geometries.\n",
      "Use `to_crs()` to reproject one of the input geometries to match the CRS of the other.\n",
      "\n",
      "Left CRS: None\n",
      "Right CRS: PROJCS[\"Moon (2015) - Sphere / Ocentric / South Po ...\n",
      "\n",
      "  return geopandas.sjoin(left_df=self, right_df=df, *args, **kwargs)  # noqa: B026\n",
      "ERROR:root:* Meshes and mask do not overlap. Weird. Stop\n",
      "  0%|          | 0/3 [00:03<?, ?it/s]\n"
     ]
    },
    {
     "ename": "NameError",
     "evalue": "name 'exit' is not defined",
     "output_type": "error",
     "traceback": [
      "\u001B[0;31m---------------------------------------------------------------------------\u001B[0m",
      "\u001B[0;31mNameError\u001B[0m                                 Traceback (most recent call last)",
      "Cell \u001B[0;32mIn[7], line 1\u001B[0m\n\u001B[0;32m----> 1\u001B[0m dsi_epo_path_dict \u001B[38;5;241m=\u001B[39m \u001B[43mprocess_data_list\u001B[49m\u001B[43m(\u001B[49m\u001B[43mdata_list\u001B[49m\u001B[43m,\u001B[49m\u001B[43m \u001B[49m\u001B[43mcommon_args\u001B[49m\u001B[43m,\u001B[49m\u001B[43m \u001B[49m\u001B[43muse_azi_ele\u001B[49m\u001B[43m,\u001B[49m\u001B[43m \u001B[49m\u001B[43muse_image_times\u001B[49m\u001B[43m,\u001B[49m\u001B[43m \u001B[49m\u001B[43mopt\u001B[49m\u001B[43m)\u001B[49m\n",
      "File \u001B[0;32m~/Lavoro/code/shadowspy/src/shadowspy/helpers.py:37\u001B[0m, in \u001B[0;36mprocess_data_list\u001B[0;34m(data_list, common_args, use_azi_ele, use_image_times, opt)\u001B[0m\n\u001B[1;32m     35\u001B[0m \u001B[38;5;28;01melse\u001B[39;00m:\n\u001B[1;32m     36\u001B[0m     \u001B[38;5;28;01mif\u001B[39;00m use_image_times:\n\u001B[0;32m---> 37\u001B[0m         dsi_path \u001B[38;5;241m=\u001B[39m \u001B[43mrender_match_image\u001B[49m\u001B[43m(\u001B[49m\u001B[38;5;241;43m*\u001B[39;49m\u001B[38;5;241;43m*\u001B[39;49m\u001B[43mfull_args\u001B[49m\u001B[43m)\u001B[49m\n\u001B[1;32m     38\u001B[0m         dsi_epo_path_dict[func_args[\u001B[38;5;124m'\u001B[39m\u001B[38;5;124mepo_in\u001B[39m\u001B[38;5;124m'\u001B[39m]] \u001B[38;5;241m=\u001B[39m dsi_path\n\u001B[1;32m     39\u001B[0m     \u001B[38;5;28;01melse\u001B[39;00m:\n",
      "File \u001B[0;32m~/Lavoro/code/shadowspy/src/shadowspy/render_dem.py:340\u001B[0m, in \u001B[0;36mrender_match_image\u001B[0;34m(pdir, meshes, path_to_furnsh, img_name, epo_utc, meas_path, outdir, center, basemesh_path, point, **kwargs)\u001B[0m\n\u001B[1;32m    337\u001B[0m meas_outer_poly\u001B[38;5;241m.\u001B[39mset_crs(meas\u001B[38;5;241m.\u001B[39mrio\u001B[38;5;241m.\u001B[39mcrs, inplace\u001B[38;5;241m=\u001B[39m\u001B[38;5;28;01mTrue\u001B[39;00m) \u001B[38;5;66;03m# both crs should be in km, to be consistent with Sun...\u001B[39;00m\n\u001B[1;32m    339\u001B[0m \u001B[38;5;66;03m# get full rendering at date\u001B[39;00m\n\u001B[0;32m--> 340\u001B[0m dsi, date_illum_str \u001B[38;5;241m=\u001B[39m \u001B[43mrender_at_date\u001B[49m\u001B[43m(\u001B[49m\u001B[43mmeshes\u001B[49m\u001B[43m,\u001B[49m\u001B[43m \u001B[49m\u001B[43mpath_to_furnsh\u001B[49m\u001B[43m,\u001B[49m\u001B[43m \u001B[49m\u001B[43mepo_utc\u001B[49m\u001B[43m,\u001B[49m\u001B[43m \u001B[49m\u001B[43mcenter\u001B[49m\u001B[38;5;241;43m=\u001B[39;49m\u001B[43mcenter\u001B[49m\u001B[43m,\u001B[49m\u001B[43m \u001B[49m\u001B[43mcrs\u001B[49m\u001B[38;5;241;43m=\u001B[39;49m\u001B[43mmeas\u001B[49m\u001B[38;5;241;43m.\u001B[39;49m\u001B[43mrio\u001B[49m\u001B[38;5;241;43m.\u001B[39;49m\u001B[43mcrs\u001B[49m\u001B[43m,\u001B[49m\n\u001B[1;32m    341\u001B[0m \u001B[43m                                     \u001B[49m\u001B[43mdem_mask\u001B[49m\u001B[38;5;241;43m=\u001B[39;49m\u001B[43mmeas_outer_poly\u001B[49m\u001B[43m,\u001B[49m\u001B[43m \u001B[49m\u001B[43mbasemesh_path\u001B[49m\u001B[38;5;241;43m=\u001B[39;49m\u001B[43mbasemesh_path\u001B[49m\u001B[43m,\u001B[49m\u001B[43m \u001B[49m\u001B[43mpoint\u001B[49m\u001B[38;5;241;43m=\u001B[39;49m\u001B[43mpoint\u001B[49m\u001B[43m)\u001B[49m\n\u001B[1;32m    343\u001B[0m \u001B[38;5;66;03m# interp to measured image coordinates\u001B[39;00m\n\u001B[1;32m    344\u001B[0m rendering \u001B[38;5;241m=\u001B[39m dsi\u001B[38;5;241m.\u001B[39mrio\u001B[38;5;241m.\u001B[39mreproject_match(meas, Resampling\u001B[38;5;241m=\u001B[39mResampling\u001B[38;5;241m.\u001B[39mbilinear,\n\u001B[1;32m    345\u001B[0m                                     nodata\u001B[38;5;241m=\u001B[39mnp\u001B[38;5;241m.\u001B[39mnan)\n",
      "File \u001B[0;32m~/Lavoro/code/shadowspy/src/shadowspy/render_dem.py:210\u001B[0m, in \u001B[0;36mrender_at_date\u001B[0;34m(meshes, path_to_furnsh, epo_utc, center, crs, dem_mask, source, inc_flux, basemesh_path, show, point, azi_ele_deg, return_irradiance, extsource_coord, **kwargs)\u001B[0m\n\u001B[1;32m    208\u001B[0m meshes_cropped[\u001B[38;5;124m'\u001B[39m\u001B[38;5;124mstereo\u001B[39m\u001B[38;5;124m'\u001B[39m] \u001B[38;5;241m=\u001B[39m \u001B[38;5;124mf\u001B[39m\u001B[38;5;124m\"\u001B[39m\u001B[38;5;132;01m{\u001B[39;00mmeshes_path\u001B[38;5;132;01m}\u001B[39;00m\u001B[38;5;124m/cropped_st.vtk\u001B[39m\u001B[38;5;124m\"\u001B[39m\n\u001B[1;32m    209\u001B[0m meshes_cropped[\u001B[38;5;124m'\u001B[39m\u001B[38;5;124mcart\u001B[39m\u001B[38;5;124m'\u001B[39m] \u001B[38;5;241m=\u001B[39m \u001B[38;5;124mf\u001B[39m\u001B[38;5;124m\"\u001B[39m\u001B[38;5;132;01m{\u001B[39;00mmeshes_path\u001B[38;5;132;01m}\u001B[39;00m\u001B[38;5;124m/cropped.vtk\u001B[39m\u001B[38;5;124m\"\u001B[39m\n\u001B[0;32m--> 210\u001B[0m \u001B[43mcrop_mesh\u001B[49m\u001B[43m(\u001B[49m\u001B[43mdem_mask\u001B[49m\u001B[43m,\u001B[49m\u001B[43m \u001B[49m\u001B[43mmeshes\u001B[49m\u001B[43m,\u001B[49m\u001B[43m \u001B[49m\u001B[43mmask\u001B[49m\u001B[38;5;241;43m=\u001B[39;49m\u001B[43mdem_mask\u001B[49m\u001B[43m,\u001B[49m\u001B[43m \u001B[49m\u001B[43mmeshes_cropped\u001B[49m\u001B[38;5;241;43m=\u001B[39;49m\u001B[43mmeshes_cropped\u001B[49m\u001B[43m)\u001B[49m\n\u001B[1;32m    212\u001B[0m V_st, F_st, N_st, P_st \u001B[38;5;241m=\u001B[39m import_mesh(\u001B[38;5;124mf\u001B[39m\u001B[38;5;124m\"\u001B[39m\u001B[38;5;132;01m{\u001B[39;00mmeshes_cropped[\u001B[38;5;124m'\u001B[39m\u001B[38;5;124mstereo\u001B[39m\u001B[38;5;124m'\u001B[39m]\u001B[38;5;132;01m}\u001B[39;00m\u001B[38;5;124m\"\u001B[39m, get_normals\u001B[38;5;241m=\u001B[39m\u001B[38;5;28;01mTrue\u001B[39;00m, get_centroids\u001B[38;5;241m=\u001B[39m\u001B[38;5;28;01mTrue\u001B[39;00m)\n\u001B[1;32m    213\u001B[0m V, F, N, P \u001B[38;5;241m=\u001B[39m import_mesh(meshes_cropped[\u001B[38;5;124m'\u001B[39m\u001B[38;5;124mcart\u001B[39m\u001B[38;5;124m'\u001B[39m], get_normals\u001B[38;5;241m=\u001B[39m\u001B[38;5;28;01mTrue\u001B[39;00m, get_centroids\u001B[38;5;241m=\u001B[39m\u001B[38;5;28;01mTrue\u001B[39;00m)\n",
      "File \u001B[0;32m~/Lavoro/code/shadowspy/src/mesh_operations/mesh_tools.py:146\u001B[0m, in \u001B[0;36mcrop_mesh\u001B[0;34m(polysgdf, meshes, mask, meshes_cropped)\u001B[0m\n\u001B[1;32m    144\u001B[0m \u001B[38;5;28;01mif\u001B[39;00m (\u001B[38;5;28mlen\u001B[39m(Vcropped_st)\u001B[38;5;241m==\u001B[39m\u001B[38;5;241m0\u001B[39m) \u001B[38;5;129;01mor\u001B[39;00m (\u001B[38;5;28mlen\u001B[39m(Vcropped)\u001B[38;5;241m==\u001B[39m\u001B[38;5;241m0\u001B[39m):\n\u001B[1;32m    145\u001B[0m     logging\u001B[38;5;241m.\u001B[39merror(\u001B[38;5;124m\"\u001B[39m\u001B[38;5;124m* Meshes and mask do not overlap. Weird. Stop\u001B[39m\u001B[38;5;124m\"\u001B[39m)\n\u001B[0;32m--> 146\u001B[0m     \u001B[43mexit\u001B[49m()\n\u001B[1;32m    148\u001B[0m \u001B[38;5;66;03m# save cropped mesh to file\u001B[39;00m\n\u001B[1;32m    149\u001B[0m mesh \u001B[38;5;241m=\u001B[39m meshio\u001B[38;5;241m.\u001B[39mMesh(Vcropped_st, [(\u001B[38;5;124m'\u001B[39m\u001B[38;5;124mtriangle\u001B[39m\u001B[38;5;124m'\u001B[39m, Fcropped)])\n",
      "\u001B[0;31mNameError\u001B[0m: name 'exit' is not defined"
     ]
    }
   ],
   "execution_count": 7
  },
  {
   "metadata": {},
   "cell_type": "code",
   "source": [
    "render_paths = glob.glob(f\"{opt.outdir}{opt.siteid}/{opt.siteid}_*.tif\")[:]\n",
    "pd.DataFrame.from_records([dsi_epo_path_dict]).T.to_csv(f'{opt.outdir}{opt.siteid}/dsi_epo_paths.csv')\n",
    "\n",
    "fig, axes = plt.subplots(nrows=len(render_paths), ncols=1)\n",
    "for idx, render in tqdm(enumerate(render_paths)):\n",
    "    da = xr.open_dataarray(render)\n",
    "    # da = da.sel(band=1).coarsen({'x': 3, 'y': 3}, boundary='trim').mean() \n",
    "    da.plot(robust=True, cmap='Greys', ax=axes[idx])\n",
    "\n",
    "plt.show()"
   ],
   "outputs": [],
   "execution_count": null
  },
  {
   "metadata": {},
   "cell_type": "markdown",
   "source": "prepare mean, sum, max stats rasters and set-up log file"
  },
  {
   "metadata": {},
   "cell_type": "code",
   "source": [
    "# from datetime import datetime\n",
    "dsi_epo_path = pd.read_csv(f'{opt.outdir}{opt.siteid}/dsi_epo_paths.csv').set_index('Unnamed: 0').to_dict()['0']\n",
    "# dsi_epo_path = {datetime.strptime(str(k), '%Y%m%d%H%M%S'):v for k,v in dsi_epo_path.items()}\n",
    "dem = xr.open_dataarray(common_args['dem_path'])\n",
    "basic_raster_stats(dsi_epo_path, opt.time_step_hours, crs=dem.rio.crs, outdir=opt.outdir, siteid=opt.siteid)"
   ],
   "outputs": [],
   "execution_count": null
  },
  {
   "metadata": {},
   "cell_type": "code",
   "source": [
    "run_log(Fsun=opt.Fsun, Rb=opt.Rb, base_resolution=opt.base_resolution, siteid=opt.siteid, dem_path=dem_path, outdir=opt.outdir,\n",
    "        start_time=opt.start_time, end_time=opt.end_time, time_step_hours=opt.time_step_hours,\n",
    "        runtime_sec=round(time.time() - start, 2), logpath=f\"{opt.outdir}{opt.siteid}/illum_stats_{opt.siteid}_{int(time.time())}.json\")\n",
    "logging.info(f\"Completed in {round(time.time() - start, 2)} seconds.\")"
   ],
   "outputs": [],
   "execution_count": null
  }
 ],
 "metadata": {
  "kernelspec": {
   "display_name": "Python 3",
   "language": "python",
   "name": "python3"
  },
  "language_info": {
   "codemirror_mode": {
    "name": "ipython",
    "version": 3
   },
   "file_extension": ".py",
   "mimetype": "text/x-python",
   "name": "python",
   "nbconvert_exporter": "python",
   "pygments_lexer": "ipython3",
   "version": "3.6.4"
  }
 },
 "nbformat": 4,
 "nbformat_minor": 2
}
